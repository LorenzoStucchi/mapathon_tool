{
 "cells": [
  {
   "cell_type": "code",
   "execution_count": null,
   "metadata": {},
   "outputs": [],
   "source": [
    "import overpass\n",
    "import pandas as pd\n",
    "import folium\n",
    "\n",
    "api_ov = overpass.API()"
   ]
  },
  {
   "cell_type": "code",
   "execution_count": null,
   "metadata": {},
   "outputs": [],
   "source": [
    "# time\n",
    "# starting (UTC time)\n",
    "day_start = '18'\n",
    "month_start =  '11'\n",
    "year_start = '2019'\n",
    "\n",
    "hour_start = '14'\n",
    "min_start = '30'\n",
    "\n",
    "#end (UTC time)\n",
    "hour_end = '17'\n",
    "min_end = '00'\n",
    "\n",
    "# can be skipped and leave as it is for mapathon in the same day (UTC)\n",
    "day_end = day_start\n",
    "month_end = month_start\n",
    "year_end = year_start"
   ]
  },
  {
   "cell_type": "code",
   "execution_count": null,
   "metadata": {},
   "outputs": [],
   "source": [
    "# bounding box\n",
    "north = 43.29\n",
    "south = 36.92\n",
    "west  = 67.11\n",
    "east  = 75.46"
   ]
  },
  {
   "cell_type": "code",
   "execution_count": null,
   "metadata": {
    "scrolled": true
   },
   "outputs": [],
   "source": [
    "mean_n_s = round((north+south)/2,2)\n",
    "mean_e_w = round((east+west)/2,2)\n",
    "\n",
    "areamap = folium.Map(\n",
    "        tiles='OpenStreetMap',\n",
    "        location=([mean_n_s, mean_e_w]), \n",
    "        zoom_start=4)\n",
    "folium.Polygon([(north,east),(north,west),(south,west),(south,east)]).add_to(areamap)\n",
    "areamap"
   ]
  },
  {
   "cell_type": "code",
   "execution_count": null,
   "metadata": {
    "scrolled": true
   },
   "outputs": [],
   "source": [
    "query1 = \"\"\"[out:csv(::user)];way[\"building\"]\"\"\"\n",
    "bbox = \"(\" + str(south) + \",\" + str(west) + \",\" + str(north) + \",\" + str(east) + \")\"\n",
    "query2 = \"(changed:\\\"\" + year_start + \"-\" + month_start + \"-\" + day_start + \"T\" + hour_start + \":\" + min_start + \":00Z\\\",\\\"\" + year_end + \"-\" + month_end + \"-\" + day_end + \"T\" + hour_end + \":\" + min_end + \":00Z\\\");\"\n",
    "query3 = \"\"\"out meta;\"\"\"\n",
    "query = query1 + bbox + query2 + query3\n",
    "\n",
    "user_building = api_ov.get(query, build = False)\n",
    "user = pd.DataFrame(user_building)\n",
    "user = user.iloc[1:]\n",
    "\n",
    "rank = user.groupby([0]).size().sort_values(ascending=False).reset_index(name='number_of_building')\n",
    "\n",
    "print(rank)"
   ]
  }
 ],
 "metadata": {
  "kernelspec": {
   "display_name": "Python 3",
   "language": "python",
   "name": "python3"
  },
  "language_info": {
   "codemirror_mode": {
    "name": "ipython",
    "version": 3
   },
   "file_extension": ".py",
   "mimetype": "text/x-python",
   "name": "python",
   "nbconvert_exporter": "python",
   "pygments_lexer": "ipython3",
   "version": "3.7.3"
  }
 },
 "nbformat": 4,
 "nbformat_minor": 2
}
