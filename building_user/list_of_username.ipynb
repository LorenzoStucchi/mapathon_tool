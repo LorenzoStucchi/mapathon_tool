{
 "cells": [
  {
   "cell_type": "code",
   "execution_count": null,
   "metadata": {},
   "outputs": [],
   "source": [
    "import overpass\n",
    "import pandas as pd\n",
    "import folium\n",
    "\n",
    "api_ov = overpass.API()"
   ]
  },
  {
   "cell_type": "code",
   "execution_count": null,
   "metadata": {},
   "outputs": [],
   "source": [
    "# time\n",
    "# starting day\n",
    "day_start = '14'\n",
    "month_start =  '11'\n",
    "year_start = '2019'\n",
    "\n",
    "# ending day\n",
    "day_end = '16'\n",
    "month_end = '11'\n",
    "year_end = '2019'\n",
    "\n",
    "\n",
    "# can be skipped and considered that all the day is considered\n",
    "hour_start = '00'\n",
    "min_start = '00'\n",
    "hour_end = '23'\n",
    "min_end = '59'"
   ]
  },
  {
   "cell_type": "code",
   "execution_count": null,
   "metadata": {},
   "outputs": [],
   "source": [
    "# bounding box\n",
    "# to obtain the bounding box its possible to use https://osmlab.github.io/show-me-the-way/bbox.html\n",
    "# select the area around your project, open the link and after copy the number after \"bounds=\"\n",
    "# copy it here and put it in the order\n",
    "# 31.67208,35.31006,32.96259,36.69434\n",
    "south = 31.67\n",
    "west  = 35.31\n",
    "north = 32.96\n",
    "east  = 36.69"
   ]
  },
  {
   "cell_type": "code",
   "execution_count": null,
   "metadata": {
    "scrolled": true
   },
   "outputs": [],
   "source": [
    "mean_n_s = round((north+south)/2,2)\n",
    "mean_e_w = round((east+west)/2,2)\n",
    "\n",
    "areamap = folium.Map(\n",
    "        tiles='OpenStreetMap',\n",
    "        location=([mean_n_s, mean_e_w]), \n",
    "        zoom_start=6)\n",
    "folium.Polygon([(north,east),(north,west),(south,west),(south,east)]).add_to(areamap)\n",
    "areamap"
   ]
  },
  {
   "cell_type": "code",
   "execution_count": null,
   "metadata": {},
   "outputs": [],
   "source": [
    "username = pd.read_csv(\"user_list.csv\")\n",
    "    \n",
    "print(username)"
   ]
  },
  {
   "cell_type": "code",
   "execution_count": null,
   "metadata": {},
   "outputs": [],
   "source": [
    "query1 = \"\"\"[out:csv(::count)];way[\"building\"]\"\"\"\n",
    "bbox = \"(\" + str(south) + \",\" + str(west) + \",\" + str(north) + \",\" + str(east) + \")\"\n",
    "query2 = \"(changed:\\\"\" + year_start + \"-\" + month_start + \"-\" + day_start + \"T\" + hour_start + \":\" + min_start + \":00Z\\\",\\\"\" + year_end + \"-\" + month_end + \"-\" + day_end + \"T\" + hour_end + \":\" + min_end + \":00Z\\\");\"\n",
    "query3 = \"\"\"out count;\"\"\""
   ]
  },
  {
   "cell_type": "code",
   "execution_count": null,
   "metadata": {},
   "outputs": [],
   "source": [
    "results = []\n",
    "for index, row in username.iterrows():\n",
    "    dict1 = {}\n",
    "    user_filter = \"(user:\\\"\" + row.OSM_username + \"\\\")\"\n",
    "    query = query1 + user_filter + query2 + query3\n",
    "    print(row.OSM_username)\n",
    "    user_building = api_ov.get(query, build = False)\n",
    "    number = pd.DataFrame(user_building,columns=['value'])\n",
    "    number = number.iloc[1:]\n",
    "    dict1.update({1: row.OSM_username, 2: int(number.value)})\n",
    "    results.append(dict1)"
   ]
  },
  {
   "cell_type": "code",
   "execution_count": null,
   "metadata": {},
   "outputs": [],
   "source": [
    "user = pd.DataFrame(results)\n",
    "rank = user.sort_values(by=[2],ascending=False)\n",
    "print(rank)"
   ]
  }
 ],
 "metadata": {
  "kernelspec": {
   "display_name": "Python 3",
   "language": "python",
   "name": "python3"
  },
  "language_info": {
   "codemirror_mode": {
    "name": "ipython",
    "version": 3
   },
   "file_extension": ".py",
   "mimetype": "text/x-python",
   "name": "python",
   "nbconvert_exporter": "python",
   "pygments_lexer": "ipython3",
   "version": "3.7.3"
  }
 },
 "nbformat": 4,
 "nbformat_minor": 2
}
